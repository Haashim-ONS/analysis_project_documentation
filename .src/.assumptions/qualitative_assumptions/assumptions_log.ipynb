{
  "cells": [
    {
      "cell_type": "raw",
      "metadata": {},
      "source": [
        "---\n",
        "title: \"Qualitative Assumptions log\"\n",
        "date: now\n",
        "execute:\n",
        "  echo: false\n",
        "format:\n",
        "  html:\n",
        "    embed-resources: true\n",
        "    toc: true\n",
        "    toc-title: \"Contents\"\n",
        "    toc-location: left\n",
        "    html-math-method: katex\n",
        "---"
      ],
      "id": "ba27f975"
    },
    {
      "cell_type": "code",
      "metadata": {},
      "source": [
        "import numpy as np\n",
        "import pandas as pd\n",
        "from IPython.display import display, Markdown\n",
        "\n",
        "assumptions = pd.read_excel(\"D:\\\\git_demo\\\\Assumptions/Qualitative_assumptions/assumptions_and_decision_log_template.xlsx\", sheet_name=\"assumptions\")"
      ],
      "id": "987ba148",
      "execution_count": null,
      "outputs": []
    },
    {
      "cell_type": "markdown",
      "metadata": {},
      "source": [
        "This log contains a list of assumptions used in this analysis.\n",
        "\n",
        "## Definitions\n",
        "\n",
        "Assumptions are red, amber or green (RAG) rated according to the following definitions for quality. The quality of an assumption measures both how certain and robust an assumption is and how appropriate it is for its intended use.\n",
        "We would consider a published data source data as very robust,  but if it needs to be transformed significantly to fit the model, the quality rating would be downgraded. You may want to lower the quality rating if it is not possible to get technical sign-off for the assumptions (e.g. lack of technical knowledge). You will also want to lower the quality if the confidence interval is likely to be wide (i.e. you wouldn't be surprised if the value was 50% different) - in this case, you should rank it as amber/red.:\n",
        "\n",
        "| RAG rating | Assumption quality |\n",
        "|------------|--------------------|\n",
        "| GREEN | Based on validated ‘actual’ data; Methodology is robust; There are no or few transformations, or transformation methodology is also fully verified and robust; Data is current, and signed off by experts; Small confidence interval. | \n",
        "| AMBER | The methodology  is robust but based on limited data; Data required significant transformation to fit the model; Confidence interval is quite wide; Data has not been reviewed recently. | \n",
        "| RED   | Unclear/unreliable data source or no data source provided; Based on limited data and methodology not robust; Data is not current; Confidence interval wide/unknown. |\n",
        "\n",
        "## Assumptions\n",
        "\n",
        "This analysis contains the following assumptions:\n"
      ],
      "id": "10ffae4b"
    },
    {
      "cell_type": "code",
      "metadata": {},
      "source": [
        "display(Markdown(f\"\"\"  \n",
        "**Assumption 1**: {assumptions.at[0, 'Plain English description of assumption']}  \n",
        "Quality: {assumptions.at[0, 'Quality Rating']}  \n",
        "  \"\"\"))"
      ],
      "id": "ea0b6fc2",
      "execution_count": null,
      "outputs": []
    },
    {
      "cell_type": "code",
      "metadata": {},
      "source": [
        "display(Markdown(f\"\"\"   \n",
        "**Assumption 2**: {assumptions.at[1, 'Plain English description of assumption']}  \n",
        "* **Quality**: {assumptions.at[1, 'Quality Rating']}  \n",
        "  \"\"\"))"
      ],
      "id": "66f28dfb",
      "execution_count": null,
      "outputs": []
    },
    {
      "cell_type": "code",
      "metadata": {},
      "source": [
        "display(Markdown(f\"\"\"    \n",
        "**Assumption 3**: {assumptions.at[2, 'Plain English description of assumption']}  \n",
        "* **Quality**: {assumptions.at[2, 'Quality Rating']}  \n",
        " \"\"\"))"
      ],
      "id": "96a15573",
      "execution_count": null,
      "outputs": []
    },
    {
      "cell_type": "code",
      "metadata": {},
      "source": [
        "display(Markdown(f\"\"\"   \n",
        "**Assumption 4**: {assumptions.at[3, 'Plain English description of assumption']}  \n",
        "* **Quality**: {assumptions.at[3, 'Quality Rating']}  \n",
        " \"\"\"))"
      ],
      "id": "ad48746c",
      "execution_count": null,
      "outputs": []
    },
    {
      "cell_type": "code",
      "metadata": {},
      "source": [
        "display(Markdown(f\"\"\"   \n",
        "**Assumption 5**: {assumptions.at[4, 'Plain English description of assumption']}  \n",
        "* **Quality**: {assumptions.at[4, 'Quality Rating']}  \n",
        "\"\"\"))"
      ],
      "id": "ae5eb1fd",
      "execution_count": null,
      "outputs": []
    },
    {
      "cell_type": "code",
      "metadata": {},
      "source": [
        "display(Markdown(f\"\"\"   \n",
        "**Assumption 6**: {assumptions.at[5, 'Plain English description of assumption']}  \n",
        "* **Quality**: {assumptions.at[5, 'Quality Rating']}  \n",
        "  \"\"\"))"
      ],
      "id": "1aaa20bc",
      "execution_count": null,
      "outputs": []
    },
    {
      "cell_type": "code",
      "metadata": {},
      "source": [
        "display(Markdown(f\"\"\"   \n",
        "**Assumption 7**: {assumptions.at[6, 'Plain English description of assumption']}  \n",
        "* **Quality**: {assumptions.at[6, 'Quality Rating']}  \n",
        "\"\"\"))"
      ],
      "id": "2169c14f",
      "execution_count": null,
      "outputs": []
    },
    {
      "cell_type": "code",
      "metadata": {},
      "source": [
        "display(Markdown(f\"\"\"   \n",
        "**Assumption 8**: {assumptions.at[7, 'Plain English description of assumption']}  \n",
        "* **Quality**: {assumptions.at[7, 'Quality Rating']}  \n",
        " \"\"\"))"
      ],
      "id": "68232afc",
      "execution_count": null,
      "outputs": []
    }
  ],
  "metadata": {
    "kernelspec": {
      "name": "python3",
      "language": "python",
      "display_name": "Python 3 (ipykernel)"
    }
  },
  "nbformat": 4,
  "nbformat_minor": 5
}